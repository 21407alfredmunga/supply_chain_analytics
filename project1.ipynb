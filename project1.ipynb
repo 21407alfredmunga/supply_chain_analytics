{
 "cells": [
  {
   "cell_type": "code",
   "execution_count": 1,
   "id": "eba4183c",
   "metadata": {},
   "outputs": [],
   "source": [
    "import pandas as pd\n",
    "import matplotlib.pyplot as plt\n",
    "import numpy as np"
   ]
  },
  {
   "cell_type": "code",
   "execution_count": 2,
   "id": "3bc7d620",
   "metadata": {},
   "outputs": [],
   "source": [
    "df = pd.read_csv('data/PjzN2QI-QDydg8ZRDwm30w_29358438dddc4ad88247c4332fd1b7f1_CSV-file.csv')"
   ]
  },
  {
   "cell_type": "code",
   "execution_count": 3,
   "id": "6d92eca3",
   "metadata": {},
   "outputs": [
    {
     "name": "stdout",
     "output_type": "stream",
     "text": [
      "         Country           City  PO/ORDER#        Categories     SKU  QTY ORD  \\\n",
      "0  United States  NEW YORK CITY     102981    Fresh Packaged  FP2020       52   \n",
      "1  United States  NEW YORK CITY     102980    Organic Beauty  OY2545       52   \n",
      "2  United States    Los Angeles     102979    Organic Beauty  OY2545        3   \n",
      "3  United States    Los Angeles     102978  Healthy Beverage  HB1016        3   \n",
      "4  United States    Los Angeles     102977           Healthy  HT1064       90   \n",
      "\n",
      "  CHANNEL WAREHOUSE Pick-Up / Delivery   Customer  SALES $  EXPECTED  \n",
      "0  Retail      Kern           Delivery  Customer1     6500     45236  \n",
      "1  Retail      Kern           Delivery  Customer1     6500     45274  \n",
      "2  Retail      Kern           Delivery  Customer1      375     45272  \n",
      "3  Retail      Kern           Delivery  Customer1      375     45206  \n",
      "4  Retail      Kern           Delivery  Customer1    11250     45213  \n"
     ]
    }
   ],
   "source": [
    "print(df.head())"
   ]
  },
  {
   "cell_type": "code",
   "execution_count": 4,
   "id": "d2f7634a",
   "metadata": {},
   "outputs": [
    {
     "name": "stdout",
     "output_type": "stream",
     "text": [
      "         Country           City  PO/ORDER#        Categories     SKU  QTY ORD  \\\n",
      "0  United States  NEW YORK CITY     102981    Fresh Packaged  FP2020       52   \n",
      "1  United States  NEW YORK CITY     102980    Organic Beauty  OY2545       52   \n",
      "2  United States    Los Angeles     102979    Organic Beauty  OY2545        3   \n",
      "3  United States    Los Angeles     102978  Healthy Beverage  HB1016        3   \n",
      "4  United States    Los Angeles     102977           Healthy  HT1064       90   \n",
      "\n",
      "  CHANNEL WAREHOUSE Pick-Up / Delivery   Customer     SALES $ EXPECTED  \n",
      "0  Retail      Kern           Delivery  Customer1   $6,500.00      NaT  \n",
      "1  Retail      Kern           Delivery  Customer1   $6,500.00      NaT  \n",
      "2  Retail      Kern           Delivery  Customer1     $375.00      NaT  \n",
      "3  Retail      Kern           Delivery  Customer1     $375.00      NaT  \n",
      "4  Retail      Kern           Delivery  Customer1  $11,250.00      NaT  \n"
     ]
    }
   ],
   "source": [
    "# Format columns as requested\n",
    "df['SALES $'] = df['SALES $'].apply(lambda x: f\"${x:,.2f}\")\n",
    "df['EXPECTED'] = pd.to_datetime(df['EXPECTED'], format='%Y%m%d', errors='coerce')\n",
    "df['QTY ORD'] = pd.to_numeric(df['QTY ORD'], errors='coerce')\n",
    "print(df.head())"
   ]
  },
  {
   "cell_type": "code",
   "execution_count": 8,
   "id": "c6cd1ac0",
   "metadata": {},
   "outputs": [
    {
     "name": "stdout",
     "output_type": "stream",
     "text": [
      "Total Sales: $13,749,250.00\n",
      "\n",
      "Quantity Statistics:\n",
      "Sum: 109,994\n",
      "Average: 38.19\n",
      "Maximum: 1,248\n",
      "Minimum: 1\n",
      "\n",
      "Total Number of Orders: 2,880\n",
      "\n",
      "First few rows with new City_clean column:\n",
      "            City     City_clean\n",
      "0  NEW YORK CITY  New York City\n",
      "1  NEW YORK CITY  New York City\n",
      "2    Los Angeles    Los Angeles\n",
      "3    Los Angeles    Los Angeles\n",
      "4    Los Angeles    Los Angeles\n"
     ]
    }
   ],
   "source": [
    "# Convert SALES $ back to numeric by removing '$' and ',' and converting to float\n",
    "df['SALES $'] = df['SALES $'].astype(str).str.replace('$', '', regex=False).str.replace(',', '', regex=False).astype(float)\n",
    "\n",
    "# Calculate sales statistics\n",
    "total_sales = df['SALES $'].sum()\n",
    "qty_sum = df['QTY ORD'].sum()\n",
    "qty_avg = df['QTY ORD'].mean()\n",
    "qty_max = df['QTY ORD'].max()\n",
    "qty_min = df['QTY ORD'].min()\n",
    "\n",
    "# Create or update City_clean column with proper case\n",
    "df['City_clean'] = df['City'].str.title()\n",
    "\n",
    "# Calculate total number of orders (unique PO/ORDER#)\n",
    "total_orders = df['PO/ORDER#'].nunique()\n",
    "\n",
    "# Print results\n",
    "print(f\"Total Sales: ${total_sales:,.2f}\")\n",
    "print(f\"\\nQuantity Statistics:\")\n",
    "print(f\"Sum: {qty_sum:,}\")\n",
    "print(f\"Average: {qty_avg:.2f}\")\n",
    "print(f\"Maximum: {qty_max:,}\")\n",
    "print(f\"Minimum: {qty_min:,}\")\n",
    "print(f\"\\nTotal Number of Orders: {total_orders:,}\")\n",
    "\n",
    "# Display first few rows to verify City_clean column\n",
    "print(\"\\nFirst few rows with new City_clean column:\")\n",
    "print(df[['City', 'City_clean']].head())"
   ]
  },
  {
   "cell_type": "code",
   "execution_count": 9,
   "id": "0349a3c1",
   "metadata": {},
   "outputs": [
    {
     "name": "stdout",
     "output_type": "stream",
     "text": [
      "\n",
      "Order and Quantity Analysis by Country:\n",
      "=====================================\n",
      "               Number of Orders  Total Quantity\n",
      "Country                                        \n",
      "United States              2600          100867\n",
      "Canada                      184            5651\n",
      "Mexico                       96            3476\n"
     ]
    }
   ],
   "source": [
    "# Create pivot table for orders and quantities by country\n",
    "country_pivot = pd.pivot_table(df, \n",
    "                             values=['PO/ORDER#', 'QTY ORD'],\n",
    "                             index='Country',\n",
    "                             aggfunc={'PO/ORDER#': 'count',  # Count of orders\n",
    "                                    'QTY ORD': 'sum'})      # Sum of quantities\n",
    "\n",
    "# Rename columns for clarity\n",
    "country_pivot.columns = ['Number of Orders', 'Total Quantity']\n",
    "\n",
    "# Sort by Number of Orders in descending order\n",
    "country_pivot = country_pivot.sort_values('Number of Orders', ascending=False)\n",
    "\n",
    "# Format the output\n",
    "print(\"\\nOrder and Quantity Analysis by Country:\")\n",
    "print(\"=====================================\")\n",
    "print(country_pivot)"
   ]
  },
  {
   "cell_type": "code",
   "execution_count": 10,
   "id": "39069f0f",
   "metadata": {},
   "outputs": [
    {
     "name": "stdout",
     "output_type": "stream",
     "text": [
      "\n",
      "Order and Quantity Analysis by Product Category:\n",
      "=====================================\n",
      "                  Number of Orders  Total Quantity\n",
      "Categories                                        \n",
      "Fresh Packaged                 878           36569\n",
      "Healthy Beverage               799           30728\n",
      "Organic Beauty                 672           25498\n",
      "Organic Pet                    346           12440\n",
      "Healthy                         72            2676\n",
      "Organic Frozen                  66            1303\n",
      "Organic Baby                    47             780\n"
     ]
    }
   ],
   "source": [
    "# Create pivot table for orders and quantities by product category\n",
    "category_pivot = pd.pivot_table(df, \n",
    "                             values=['PO/ORDER#', 'QTY ORD'],\n",
    "                             index='Categories',\n",
    "                             aggfunc={'PO/ORDER#': 'count',  # Count of orders\n",
    "                                    'QTY ORD': 'sum'})      # Sum of quantities\n",
    "\n",
    "# Rename columns for clarity\n",
    "category_pivot.columns = ['Number of Orders', 'Total Quantity']\n",
    "\n",
    "# Sort by Number of Orders in descending order\n",
    "category_pivot = category_pivot.sort_values('Number of Orders', ascending=False)\n",
    "\n",
    "# Format the output\n",
    "print(\"\\nOrder and Quantity Analysis by Product Category:\")\n",
    "print(\"=====================================\")\n",
    "print(category_pivot)"
   ]
  }
 ],
 "metadata": {
  "kernelspec": {
   "display_name": "datascience_env",
   "language": "python",
   "name": "python3"
  },
  "language_info": {
   "codemirror_mode": {
    "name": "ipython",
    "version": 3
   },
   "file_extension": ".py",
   "mimetype": "text/x-python",
   "name": "python",
   "nbconvert_exporter": "python",
   "pygments_lexer": "ipython3",
   "version": "3.10.12"
  }
 },
 "nbformat": 4,
 "nbformat_minor": 5
}
